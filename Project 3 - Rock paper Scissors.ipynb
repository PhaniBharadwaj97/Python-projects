{
 "cells": [
  {
   "cell_type": "code",
   "execution_count": 11,
   "id": "1778380d-f886-4fb9-852b-9f68dd60a2fa",
   "metadata": {},
   "outputs": [
    {
     "name": "stdin",
     "output_type": "stream",
     "text": [
      "Rock , paper , scissors Rock\n"
     ]
    },
    {
     "name": "stdout",
     "output_type": "stream",
     "text": [
      "Bot: Rock\n",
      "it's a tie\n"
     ]
    }
   ],
   "source": [
    "#rock paper scissors\n",
    "\n",
    "import random\n",
    "\n",
    "play1 = str(input(\"Rock , paper , scissors\")).capitalize()\n",
    "\n",
    "play2 = random.randint(1,3)\n",
    "\n",
    "if play2 == 1:\n",
    "    play2 = \"Rock\"\n",
    "\n",
    "elif play2 == 2:\n",
    "    play2 = \"paper\"\n",
    "    \n",
    "elif play2 == 3 :\n",
    "    play2 = \"scissors\"\n",
    "    \n",
    "print(\"Bot:\"+\" \"+play2)\n",
    "\n",
    "if play1 == play2 :\n",
    "    print(\"it's a tie\")\n",
    "    \n",
    "elif (play1 == \"Rock\" and play2 == \"scissors\") or (play1 == \"scissors\" and play2 == \"paper\") or (play1 == \"paper\" and play2 == \"Rock\"):\n",
    "    print(\"you win\")\n",
    "    \n",
    "else:\n",
    "    print(\"you lost\")\n",
    "    \n"
   ]
  },
  {
   "cell_type": "code",
   "execution_count": null,
   "id": "5fa6bce9-e69d-430d-8a13-047ec7e9d247",
   "metadata": {},
   "outputs": [],
   "source": []
  }
 ],
 "metadata": {
  "kernelspec": {
   "display_name": "Python 3",
   "language": "python",
   "name": "python3"
  },
  "language_info": {
   "codemirror_mode": {
    "name": "ipython",
    "version": 3
   },
   "file_extension": ".py",
   "mimetype": "text/x-python",
   "name": "python",
   "nbconvert_exporter": "python",
   "pygments_lexer": "ipython3",
   "version": "3.8.8"
  }
 },
 "nbformat": 4,
 "nbformat_minor": 5
}
