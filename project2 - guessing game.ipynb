{
 "cells": [
  {
   "cell_type": "code",
   "execution_count": null,
   "id": "24335759-ef13-4030-82a4-ab379b5f3383",
   "metadata": {},
   "outputs": [],
   "source": [
    "#number guessing game\n",
    "import random\n",
    "number = random.randrange(1,50)\n",
    "\n",
    "guess = int(input(\"Please guess the number between 1 and 50\"))\n",
    "\n",
    "while guess != number:\n",
    "   \n",
    "    if guess < number :\n",
    "        print (\"guess Higher\")\n",
    "        guess = int(input(\"Please guess the number between 1 and 50\"))\n",
    "    else :\n",
    "        print(\"guess lower\")\n",
    "        guess = int(input(\"Please guess the number between 1 and 50\"))\n",
    "        \n",
    "print(\"you've guessed the number correctly\")       \n"
   ]
  },
  {
   "cell_type": "code",
   "execution_count": null,
   "id": "94780671-bac7-430c-98fd-34026fe680b0",
   "metadata": {},
   "outputs": [],
   "source": []
  }
 ],
 "metadata": {
  "kernelspec": {
   "display_name": "Python 3",
   "language": "python",
   "name": "python3"
  },
  "language_info": {
   "codemirror_mode": {
    "name": "ipython",
    "version": 3
   },
   "file_extension": ".py",
   "mimetype": "text/x-python",
   "name": "python",
   "nbconvert_exporter": "python",
   "pygments_lexer": "ipython3",
   "version": "3.8.8"
  }
 },
 "nbformat": 4,
 "nbformat_minor": 5
}
