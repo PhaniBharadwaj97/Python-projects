{
 "cells": [
  {
   "cell_type": "code",
   "execution_count": 10,
   "id": "0c575aa6-cbce-4fc1-805d-da92d0023279",
   "metadata": {},
   "outputs": [
    {
     "name": "stdin",
     "output_type": "stream",
     "text": [
      "enter the  color  Green\n",
      "enter a Plural noune microwaves\n",
      "Please enter a verb peter parker\n",
      "please enter sad or happy sad\n"
     ]
    },
    {
     "name": "stdout",
     "output_type": "stream",
     "text": [
      "Roses are Green\n",
      "microwaves are blue\n",
      "If you are peter parker \n",
      "I'm sad  for you\n"
     ]
    }
   ],
   "source": [
    "#mad libs game\n",
    "color = input(\"enter the  color \")\n",
    "plural_noun = input(\"enter a Plural noune\")\n",
    "verb = input (\"Please enter a verb\")\n",
    "noune = input (\"please enter sad or happy\")\n",
    "print (\"Roses are\" +\" \"+ color)\n",
    "print(plural_noun +\" \" + \"are blue\")\n",
    "print(\"If you are\" +\" \"+ verb + \" \")\n",
    "print (\"I'm\" + \" \"+noune + \" \"+\" for you\")"
   ]
  },
  {
   "cell_type": "code",
   "execution_count": null,
   "id": "b46f2662-5b09-41b8-8f07-1bf81915662d",
   "metadata": {},
   "outputs": [],
   "source": []
  }
 ],
 "metadata": {
  "kernelspec": {
   "display_name": "Python 3",
   "language": "python",
   "name": "python3"
  },
  "language_info": {
   "codemirror_mode": {
    "name": "ipython",
    "version": 3
   },
   "file_extension": ".py",
   "mimetype": "text/x-python",
   "name": "python",
   "nbconvert_exporter": "python",
   "pygments_lexer": "ipython3",
   "version": "3.8.8"
  }
 },
 "nbformat": 4,
 "nbformat_minor": 5
}
