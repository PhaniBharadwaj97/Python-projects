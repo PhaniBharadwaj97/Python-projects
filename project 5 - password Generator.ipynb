{
 "cells": [
  {
   "cell_type": "code",
   "execution_count": 12,
   "id": "8461371c-2ae0-486a-b3eb-be16692ede1e",
   "metadata": {},
   "outputs": [
    {
     "name": "stdout",
     "output_type": "stream",
     "text": [
      "l & O w S I H 0 1 3\n",
      "p V b x X s B T ! Q\n",
      "H o Y f n i V m J E\n",
      "y Y 8 i R l N g 4 n\n",
      "9 ) N T v x r 8 ( u\n",
      "! L I ( A D y v d %\n",
      "L B n u P 1 8 g v h\n",
      "H V Y n a 3 # C q D\n",
      "8 @ g 1 W o i b % )\n",
      "^ 2 Q y h ( f 5 d )\n"
     ]
    }
   ],
   "source": [
    "#password generator\n",
    "\n",
    "import random\n",
    "\n",
    "letters_upper = \"abcdefghijklmnopqrstuvwxyz\".upper()\n",
    "letters_lower = \"abcdefghijklmnopqrstuvwxyz\"\n",
    "numbers = \"0123456789\"\n",
    "symbols = \"()*&^%$#@!\"\n",
    "\n",
    "library = \"\"\n",
    "\n",
    "library += letters_upper\n",
    "library += letters_lower\n",
    "library += numbers\n",
    "library += symbols\n",
    "\n",
    "password_length = 10\n",
    "\n",
    "number_of_passwords = 10\n",
    "\n",
    "for i in range (0,number_of_passwords):\n",
    "    password = \" \".join(random.sample(library,password_length))\n",
    "    print(password)"
   ]
  },
  {
   "cell_type": "code",
   "execution_count": null,
   "id": "b3b2bad8-96bc-445b-a774-007dcc09a2c7",
   "metadata": {},
   "outputs": [],
   "source": []
  }
 ],
 "metadata": {
  "kernelspec": {
   "display_name": "Python 3",
   "language": "python",
   "name": "python3"
  },
  "language_info": {
   "codemirror_mode": {
    "name": "ipython",
    "version": 3
   },
   "file_extension": ".py",
   "mimetype": "text/x-python",
   "name": "python",
   "nbconvert_exporter": "python",
   "pygments_lexer": "ipython3",
   "version": "3.8.8"
  }
 },
 "nbformat": 4,
 "nbformat_minor": 5
}
