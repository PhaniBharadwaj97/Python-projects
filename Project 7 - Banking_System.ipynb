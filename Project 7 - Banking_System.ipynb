{
 "cells": [
  {
   "cell_type": "code",
   "execution_count": 20,
   "id": "7320a7ad-a8a1-4b3d-9283-e76bf1733b72",
   "metadata": {},
   "outputs": [
    {
     "name": "stdout",
     "output_type": "stream",
     "text": [
      "Account balance has been updated : $ 100\n",
      "Account balance has been updated : $ 600\n",
      "Account balance has been updated : $ 550\n",
      "insufficient funds , Balance available is : $ 550\n",
      "personal details\n",
      " \n",
      "Name : johan\n",
      "Age : 20\n",
      "Gender : Male\n",
      "your Account balance has been is : $ 550\n"
     ]
    }
   ],
   "source": [
    "#banking System\n",
    "\n",
    "#parent Class : User - Holds details about an user , has a function to show user details\n",
    "#child class : Bank - Stores details about the account balance , stores details about amount , allows for deposits , withdraw , view_balance\n",
    "\n",
    "#parent class\n",
    "class User ():\n",
    "    def __init__(self,name , age , gender):\n",
    "        self.name = name\n",
    "        self.age = age\n",
    "        self.gender = gender\n",
    "\n",
    "        \n",
    "    def show_details(self):\n",
    "        print(\"personal details\")\n",
    "        print(\" \")\n",
    "        print(\"Name :\",self.name)\n",
    "        print(\"Age :\",self.age)\n",
    "        print(\"Gender :\",self.gender)\n",
    "\n",
    "\n",
    "#child class\n",
    "\n",
    "class Bank(User):\n",
    "    def __init__(self,name,age,gender):\n",
    "        super().__init__(name,age,gender)\n",
    "        self.balance = 0\n",
    "    \n",
    "    def deposit(self,amount):\n",
    "        self.amount = amount\n",
    "        self.balance = self.balance + self.amount\n",
    "        print(\"Account balance has been updated : $\", self.balance)\n",
    "        \n",
    "    def withdraw (self,amount):\n",
    "        self.amount = amount\n",
    "        if ( self.amount > self.balance):\n",
    "            print(\"insufficient funds , Balance available is : $\",self.balance)\n",
    "        else:\n",
    "            self.balance = self.balance - self.amount\n",
    "            print(\"Account balance has been updated : $\", self.balance)\n",
    "    \n",
    "    def view_balance (self):\n",
    "        self.show_details()\n",
    "        print(\"your Account balance has been is : $\", self.balance)\n",
    "        \n",
    "        \n",
    "        \n",
    "    \n",
    "\n",
    "johan = Bank('johan',20,'Male')\n",
    "johan.deposit(100)\n",
    "johan.deposit(500)\n",
    "johan.withdraw(50)\n",
    "johan.withdraw(800)\n",
    "johan.view_balance()\n",
    "\n",
    "        \n"
   ]
  },
  {
   "cell_type": "code",
   "execution_count": null,
   "id": "816d9e3c-e5bb-4b5d-9536-d7a3a9b857bb",
   "metadata": {},
   "outputs": [],
   "source": []
  }
 ],
 "metadata": {
  "kernelspec": {
   "display_name": "Python 3",
   "language": "python",
   "name": "python3"
  },
  "language_info": {
   "codemirror_mode": {
    "name": "ipython",
    "version": 3
   },
   "file_extension": ".py",
   "mimetype": "text/x-python",
   "name": "python",
   "nbconvert_exporter": "python",
   "pygments_lexer": "ipython3",
   "version": "3.8.8"
  }
 },
 "nbformat": 4,
 "nbformat_minor": 5
}
